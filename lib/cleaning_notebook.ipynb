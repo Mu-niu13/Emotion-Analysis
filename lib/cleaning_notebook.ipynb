{
 "cells": [
  {
   "cell_type": "code",
   "execution_count": 2,
   "metadata": {},
   "outputs": [],
   "source": [
    "import pandas as pd\n",
    "import numpy as np"
   ]
  },
  {
   "cell_type": "code",
   "execution_count": 3,
   "metadata": {},
   "outputs": [],
   "source": [
    "data = pd.read_csv('../data/go_emotions_dataset.csv')"
   ]
  },
  {
   "cell_type": "code",
   "execution_count": 4,
   "metadata": {},
   "outputs": [
    {
     "name": "stdout",
     "output_type": "stream",
     "text": [
      "Sentiment Distribution:\n"
     ]
    },
    {
     "data": {
      "text/plain": [
       "admiration        17131\n",
       "amusement          9245\n",
       "anger              8084\n",
       "annoyance         13618\n",
       "approval          17620\n",
       "caring             5999\n",
       "confusion          7359\n",
       "curiosity          9692\n",
       "desire             3817\n",
       "disappointment     8469\n",
       "disapproval       11424\n",
       "disgust            5301\n",
       "embarrassment      2476\n",
       "excitement         5629\n",
       "fear               3197\n",
       "gratitude         11625\n",
       "grief               673\n",
       "joy                7983\n",
       "love               8191\n",
       "nervousness        1810\n",
       "optimism           8715\n",
       "pride              1302\n",
       "realization        8785\n",
       "relief             1289\n",
       "remorse            2525\n",
       "sadness            6758\n",
       "surprise           5514\n",
       "neutral           55298\n",
       "dtype: int64"
      ]
     },
     "execution_count": 4,
     "metadata": {},
     "output_type": "execute_result"
    }
   ],
   "source": [
    "# drop unclear rows\n",
    "filtered_data = data[data['example_very_unclear'] != True]\n",
    "\n",
    "# drop rows where none of the sentiment columns (excluding id, text, example_very_unclear) == 1\n",
    "# Identify the sentiment columns (assuming all other columns are sentiment-related)\n",
    "non_sentiment_cols = ['id', 'text', 'example_very_unclear']\n",
    "sentiment_cols = [col for col in data.columns if col not in non_sentiment_cols]\n",
    "\n",
    "# filter rows where at least one sentiment column has a value of 1\n",
    "filtered_data = filtered_data[filtered_data[sentiment_cols].sum(axis=1) > 0]\n",
    "\n",
    "# check the distribution of sentiment columns\n",
    "sentiment_distribution = filtered_data[sentiment_cols].sum()\n",
    "print(\"Sentiment Distribution:\")\n",
    "sentiment_distribution"
   ]
  },
  {
   "cell_type": "code",
   "execution_count": 5,
   "metadata": {},
   "outputs": [
    {
     "data": {
      "text/plain": [
       "Index(['id', 'text', 'example_very_unclear', 'neutral', 'positive recognition',\n",
       "       'anger', 'sadness', 'anxiety', 'regret', 'happiness', 'discomfort',\n",
       "       'affection', 'curiosity', 'surprise'],\n",
       "      dtype='object')"
      ]
     },
     "execution_count": 5,
     "metadata": {},
     "output_type": "execute_result"
    }
   ],
   "source": [
    "# merge the sentiment columns based on distribution and meaning\n",
    "filtered_data['positive recognition'] = filtered_data['admiration'] | filtered_data['approval']\n",
    "filtered_data['anger'] = filtered_data['anger'] | filtered_data['annoyance']\n",
    "filtered_data['sadness'] = filtered_data['sadness'] | filtered_data['grief']\n",
    "filtered_data['anxiety'] = filtered_data['fear'] | filtered_data['nervousness']\n",
    "filtered_data['regret'] = filtered_data['remorse'] | filtered_data['disappointment']\n",
    "filtered_data['happiness'] = filtered_data['gratitude'] | filtered_data['joy'] | filtered_data['amusement'] | filtered_data['excitement'] | filtered_data['optimism'] |  filtered_data['pride'] | filtered_data['relief']\n",
    "filtered_data['discomfort'] = filtered_data['embarrassment'] | filtered_data['confusion'] | filtered_data['disgust'] | filtered_data['disapproval']\n",
    "filtered_data['affection'] = filtered_data['love'] | filtered_data['caring']\n",
    "filtered_data['curiosity'] = filtered_data['desire'] | filtered_data['curiosity']\n",
    "filtered_data['surprise'] = filtered_data['realization'] | filtered_data['surprise']\n",
    "\n",
    "# list of merged columns\n",
    "merged_columns = [\n",
    "    'positive recognition', 'anger', 'sadness', 'anxiety', 'regret',\n",
    "    'happiness', 'discomfort', 'affection', 'curiosity', 'surprise']\n",
    "\n",
    "# not merged columns\n",
    "unmerged_columns = [\n",
    "    col for col in filtered_data.columns \n",
    "    if col not in merged_columns + [\n",
    "        'admiration', 'approval', 'anger', 'annoyance', 'sadness', 'grief',\n",
    "        'fear', 'nervousness', 'remorse', 'disappointment', 'optimism', \n",
    "        'excitement', 'gratitude', 'joy', 'embarrassment', 'confusion', \n",
    "        'love', 'caring', 'disgust', 'disapproval', 'desire', 'curiosity', \n",
    "        'realization', 'surprise', 'pride', 'amusement', 'relief']]\n",
    "\n",
    "# combine merged and unmerged columns for final dataset\n",
    "final_columns = unmerged_columns + merged_columns\n",
    "final_data = filtered_data[final_columns]\n",
    "\n",
    "# see updated columns in the final dataset\n",
    "final_data.columns"
   ]
  },
  {
   "cell_type": "code",
   "execution_count": 5,
   "metadata": {},
   "outputs": [],
   "source": [
    "# write to csv\n",
    "final_data.to_csv('../data/merged_filtered_data.csv', index=False)"
   ]
  }
 ],
 "metadata": {
  "kernelspec": {
   "display_name": "base",
   "language": "python",
   "name": "python3"
  },
  "language_info": {
   "codemirror_mode": {
    "name": "ipython",
    "version": 3
   },
   "file_extension": ".py",
   "mimetype": "text/x-python",
   "name": "python",
   "nbconvert_exporter": "python",
   "pygments_lexer": "ipython3",
   "version": "3.11.7"
  }
 },
 "nbformat": 4,
 "nbformat_minor": 2
}
