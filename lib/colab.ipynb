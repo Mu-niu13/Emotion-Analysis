{
  "nbformat": 4,
  "nbformat_minor": 0,
  "metadata": {
    "colab": {
      "provenance": [],
      "mount_file_id": "1j-rGZWxqITHa0wDgOq-Wf9GN_-hI40Mt",
      "authorship_tag": "ABX9TyMM6IQ8ZnPKVnznxdUli0BA",
      "include_colab_link": true
    },
    "kernelspec": {
      "name": "python3",
      "display_name": "Python 3"
    },
    "language_info": {
      "name": "python"
    }
  },
  "cells": [
    {
      "cell_type": "markdown",
      "metadata": {
        "id": "view-in-github",
        "colab_type": "text"
      },
      "source": [
        "<a href=\"https://colab.research.google.com/github/Mu-niu13/Emotion-Analysis/blob/main/lib/colab.ipynb\" target=\"_parent\"><img src=\"https://colab.research.google.com/assets/colab-badge.svg\" alt=\"Open In Colab\"/></a>"
      ]
    },
    {
      "cell_type": "markdown",
      "source": [],
      "metadata": {
        "id": "5MTVrhEg1uVr"
      }
    },
    {
      "cell_type": "code",
      "source": [
        "## install git and configure(so we know who commit the code)\n",
        "# !apt-get install git\n",
        "# !git config --global user.name \"USER_NAME\"\n",
        "# !git config --global user.email \"EMAIL\"\n",
        "\n",
        "# access google drive\n",
        "from google.colab import drive\n",
        "drive.mount('/content/drive')\n",
        "\n",
        "# clone repo\n",
        "!git clone https://github.com/Mu-niu13/Emotion-Analysis.git\n",
        "%cd Emotion-Analysis\n",
        "\n",
        "# set up personal access for push/pull\n",
        "from getpass import getpass\n",
        "token = getpass('Enter your GitHub PAT:')\n",
        "!git remote set-url origin https://{token}@github.com/Mu-niu13/Emotion-Analysis.git"
      ],
      "metadata": {
        "colab": {
          "base_uri": "https://localhost:8080/"
        },
        "id": "oASRluqltQvy",
        "outputId": "26ff1149-508c-4628-ff92-2da6ae987908"
      },
      "execution_count": 1,
      "outputs": [
        {
          "name": "stdout",
          "output_type": "stream",
          "text": [
            "Mounted at /content/drive\n",
            "Cloning into 'Emotion-Analysis'...\n",
            "remote: Enumerating objects: 19, done.\u001b[K\n",
            "remote: Counting objects: 100% (19/19), done.\u001b[K\n",
            "remote: Compressing objects: 100% (14/14), done.\u001b[K\n",
            "remote: Total 19 (delta 5), reused 12 (delta 3), pack-reused 0 (from 0)\u001b[K\n",
            "Receiving objects: 100% (19/19), 8.43 MiB | 13.26 MiB/s, done.\n",
            "Resolving deltas: 100% (5/5), done.\n",
            "/content/Emotion-Analysis\n",
            "Enter your GitHub PAT:··········\n"
          ]
        }
      ]
    },
    {
      "cell_type": "code",
      "source": [
        "x = 1\n",
        "y = 2"
      ],
      "metadata": {
        "id": "UoG9x7Qd400s"
      },
      "execution_count": 2,
      "outputs": []
    },
    {
      "cell_type": "code",
      "source": [
        "!git config --global user.name \"Mu-niu13\"\n",
        "!git config --global user.email \"olivern0711@gmail.com\""
      ],
      "metadata": {
        "id": "7XK9QwNZ8-cT"
      },
      "execution_count": 4,
      "outputs": []
    },
    {
      "cell_type": "code",
      "source": [
        "!git add .\n",
        "!git commit -m'test connection'\n",
        "!git push"
      ],
      "metadata": {
        "colab": {
          "base_uri": "https://localhost:8080/"
        },
        "id": "ClDP7zOowcBx",
        "outputId": "4e2ad4f1-372c-4bdf-f3a8-3ca95e14dad2"
      },
      "execution_count": 5,
      "outputs": [
        {
          "output_type": "stream",
          "name": "stdout",
          "text": [
            "On branch main\n",
            "Your branch is up to date with 'origin/main'.\n",
            "\n",
            "nothing to commit, working tree clean\n",
            "Everything up-to-date\n"
          ]
        }
      ]
    }
  ]
}