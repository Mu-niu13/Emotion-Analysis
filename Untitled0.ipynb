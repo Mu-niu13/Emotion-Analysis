{
  "nbformat": 4,
  "nbformat_minor": 0,
  "metadata": {
    "colab": {
      "provenance": [],
      "mount_file_id": "1j-rGZWxqITHa0wDgOq-Wf9GN_-hI40Mt",
      "authorship_tag": "ABX9TyOf5jFmtU/t0owxZCc4/1us",
      "include_colab_link": true
    },
    "kernelspec": {
      "name": "python3",
      "display_name": "Python 3"
    },
    "language_info": {
      "name": "python"
    }
  },
  "cells": [
    {
      "cell_type": "markdown",
      "metadata": {
        "id": "view-in-github",
        "colab_type": "text"
      },
      "source": [
        "<a href=\"https://colab.research.google.com/github/Mu-niu13/Emotion-Analysis/blob/main/Untitled0.ipynb\" target=\"_parent\"><img src=\"https://colab.research.google.com/assets/colab-badge.svg\" alt=\"Open In Colab\"/></a>"
      ]
    },
    {
      "cell_type": "markdown",
      "source": [],
      "metadata": {
        "id": "5MTVrhEg1uVr"
      }
    },
    {
      "cell_type": "code",
      "source": [
        "## install git and configure(so we know who commit the code)\n",
        "# !apt-get install git\n",
        "# !git config --global user.name \"USER_NAME\"\n",
        "# !git config --global user.email \"EMAIL\"\n",
        "\n",
        "# access google drive\n",
        "from google.colab import drive\n",
        "drive.mount('/content/drive')\n",
        "\n",
        "# clone repo\n",
        "!git clone https://github.com/Mu-niu13/Emotion-Analysis.git\n",
        "%cd Emotion-Analysis\n",
        "\n",
        "# set up personal access for push/pull\n",
        "from getpass import getpass\n",
        "token = getpass('Enter your GitHub PAT:')\n",
        "!git remote set-url origin https://{token}@github.com/Mu-niu13/Emotion-Analysis.git"
      ],
      "metadata": {
        "colab": {
          "base_uri": "https://localhost:8080/"
        },
        "id": "oASRluqltQvy",
        "outputId": "c187f724-7f35-43a5-dfb6-babb17301a1a"
      },
      "execution_count": 58,
      "outputs": [
        {
          "name": "stdout",
          "output_type": "stream",
          "text": [
            "Drive already mounted at /content/drive; to attempt to forcibly remount, call drive.mount(\"/content/drive\", force_remount=True).\n",
            "Cloning into 'Emotion-Analysis'...\n",
            "remote: Enumerating objects: 13, done.\u001b[K\n",
            "remote: Counting objects: 100% (13/13), done.\u001b[K\n",
            "remote: Compressing objects: 100% (10/10), done.\u001b[K\n",
            "remote: Total 13 (delta 3), reused 9 (delta 2), pack-reused 0 (from 0)\u001b[K\n",
            "Receiving objects: 100% (13/13), 8.43 MiB | 12.71 MiB/s, done.\n",
            "Resolving deltas: 100% (3/3), done.\n",
            "/content/Emotion-Analysis/Emotion-Analysis\n",
            "Enter your GitHub PAT:··········\n"
          ]
        }
      ]
    },
    {
      "cell_type": "code",
      "source": [
        "%cd ../"
      ],
      "metadata": {
        "colab": {
          "base_uri": "https://localhost:8080/"
        },
        "id": "UoG9x7Qd400s",
        "outputId": "d6913ee9-2500-4814-9a46-268fd51c983c"
      },
      "execution_count": 63,
      "outputs": [
        {
          "output_type": "stream",
          "name": "stdout",
          "text": [
            "/content/Emotion-Analysis\n"
          ]
        }
      ]
    },
    {
      "cell_type": "code",
      "source": [
        "!git add .\n",
        "!git commit -m'add lib'\n",
        "!git push"
      ],
      "metadata": {
        "colab": {
          "base_uri": "https://localhost:8080/"
        },
        "id": "ClDP7zOowcBx",
        "outputId": "0f723690-15ba-4594-9671-28c31e1f33f7"
      },
      "execution_count": 64,
      "outputs": [
        {
          "output_type": "stream",
          "name": "stdout",
          "text": [
            "On branch main\n",
            "Your branch is up to date with 'origin/main'.\n",
            "\n",
            "nothing to commit, working tree clean\n",
            "fatal: could not read Username for 'https://github.com': No such device or address\n"
          ]
        }
      ]
    }
  ]
}